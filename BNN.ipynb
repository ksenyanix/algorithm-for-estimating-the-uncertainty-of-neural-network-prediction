{
 "cells": [
  {
   "cell_type": "code",
   "execution_count": 1,
   "id": "ca482463",
   "metadata": {},
   "outputs": [],
   "source": [
    "import os\n",
    "os.chdir('..')"
   ]
  },
  {
   "cell_type": "code",
   "execution_count": 2,
   "id": "eb0b6bb2",
   "metadata": {},
   "outputs": [],
   "source": [
    "from torchvision.datasets import MNIST\n",
    "import torch\n",
    "import torch.nn as nn\n",
    "import torchvision.transforms as TF\n",
    "from tqdm.auto import tqdm\n",
    "from NetBayesianization import wrap, api"
   ]
  },
  {
   "cell_type": "code",
   "execution_count": 3,
   "id": "e51ad2be",
   "metadata": {},
   "outputs": [],
   "source": [
    "train_ds = MNIST(root='./.cache', train=True, download=True, \n",
    "                 transform=TF.ToTensor()) \n",
    "test_ds = MNIST(root='./.cache', train=False, download=False, \n",
    "                transform=TF.ToTensor())"
   ]
  },
  {
   "cell_type": "code",
   "execution_count": 15,
   "id": "a17defee",
   "metadata": {},
   "outputs": [],
   "source": [
    "train_dl = torch.utils.data.DataLoader(train_ds, batch_size=32, shuffle=True)\n",
    "test_dl = torch.utils.data.DataLoader(test_ds, batch_size=32, shuffle=False)"
   ]
  },
  {
   "cell_type": "code",
   "execution_count": 16,
   "id": "be97a1a5",
   "metadata": {},
   "outputs": [],
   "source": [
    "num_classes = 10"
   ]
  },
  {
   "cell_type": "code",
   "execution_count": 17,
   "id": "ff145657",
   "metadata": {},
   "outputs": [],
   "source": [
    "model = nn.Sequential(nn.Flatten() ,nn.Linear(28*28, 128), \n",
    "                       nn.ReLU(), nn.Linear(128, 64), \n",
    "                       nn.ReLU(), nn.Linear(64, num_classes), nn.Softmax(dim=1))\n",
    "optimizer = torch.optim.SGD(model.parameters(), lr=0.003, momentum=0.9)\n",
    "criterion = nn.CrossEntropyLoss()\n",
    "images, labels = next(iter(train_dl))\n",
    "images = images.view(images.shape[0], -1)\n",
    "logps = model(images)\n",
    "loss = criterion(logps, labels)"
   ]
  },
  {
   "cell_type": "code",
   "execution_count": 18,
   "id": "6f6bee58",
   "metadata": {},
   "outputs": [],
   "source": [
    "def testAccuracy():\n",
    "    \n",
    "    model.eval()\n",
    "    accuracy = 0.0\n",
    "    total = 0.0\n",
    "    \n",
    "    with torch.no_grad():\n",
    "        for data in test_dl:\n",
    "            images, labels = data\n",
    "            # run the model on the test set to predict labels\n",
    "            outputs = model(images)\n",
    "            # the label with the highest energy will be our prediction\n",
    "            _, predicted = torch.max(outputs.data, 1)\n",
    "            total += labels.size(0)\n",
    "            accuracy += (predicted == labels).sum().item()\n",
    "    \n",
    "    # compute the accuracy over all test images\n",
    "    accuracy = (100 * accuracy / total)\n",
    "    return(accuracy)"
   ]
  },
  {
   "cell_type": "code",
   "execution_count": 19,
   "id": "eb9c45c4",
   "metadata": {},
   "outputs": [
    {
     "name": "stdout",
     "output_type": "stream",
     "text": [
      "[1,  1000] loss: 2.296\n",
      "For epoch 1 the test accuracy over the whole test set is 56 %\n",
      "[2,  1000] loss: 1.858\n",
      "For epoch 2 the test accuracy over the whole test set is 74 %\n",
      "[3,  1000] loss: 1.714\n",
      "For epoch 3 the test accuracy over the whole test set is 80 %\n",
      "[4,  1000] loss: 1.658\n",
      "For epoch 4 the test accuracy over the whole test set is 89 %\n",
      "[5,  1000] loss: 1.576\n",
      "For epoch 5 the test accuracy over the whole test set is 91 %\n"
     ]
    }
   ],
   "source": [
    "# train\n",
    "n_epochs = 5\n",
    "best_accuracy = 0.0\n",
    "for e in range(n_epochs):\n",
    "    running_loss = 0\n",
    "    for i, (images, labels) in enumerate(train_dl, 0):\n",
    "        optimizer.zero_grad()\n",
    "        output = model(images)\n",
    "        loss = criterion(output, labels)\n",
    "        loss.backward()\n",
    "        optimizer.step()\n",
    "        # Let's print statistics for every 1,000 images\n",
    "        running_loss += loss.item()     # extract the loss value\n",
    "        if i % 1000 == 999:    \n",
    "            # print every 1000 (twice per epoch) \n",
    "            print('[%d, %5d] loss: %.3f' %\n",
    "                  (e + 1, i + 1, running_loss / 1000))\n",
    "            # zero the loss\n",
    "            running_loss = 0.0\n",
    "    \n",
    "    accuracy = testAccuracy()\n",
    "    print('For epoch', e + 1,'the test accuracy over the whole test set is %d %%' % (accuracy))\n",
    "\n",
    "    if accuracy > best_accuracy:\n",
    "        best_accuracy = accuracy"
   ]
  },
  {
   "cell_type": "code",
   "execution_count": 20,
   "id": "31232301",
   "metadata": {},
   "outputs": [],
   "source": [
    "from torchmetrics.classification import MulticlassAccuracy\n",
    "metric = MulticlassAccuracy(num_classes=10)"
   ]
  },
  {
   "cell_type": "code",
   "execution_count": 43,
   "id": "8e76d55c",
   "metadata": {},
   "outputs": [
    {
     "name": "stdout",
     "output_type": "stream",
     "text": [
      "the test accuracy over the whole test set is 88.87%\n"
     ]
    }
   ],
   "source": [
    "with torch.no_grad():\n",
    "    n = 0 \n",
    "    test_acc = 0 \n",
    "    for batch_idx, (inputs, targets) in enumerate(test_dl):\n",
    "        outputs = model(inputs)\n",
    "        test_acc += metric(outputs, targets)\n",
    "        n += 1\n",
    "    \n",
    "    test_acc = test_acc / n\n",
    "    print(f'the test accuracy over the whole test set is {round((100 * test_acc.numpy()), 2)}%')"
   ]
  },
  {
   "cell_type": "code",
   "execution_count": 9,
   "id": "f721a384",
   "metadata": {},
   "outputs": [
    {
     "name": "stdout",
     "output_type": "stream",
     "text": [
      "Number Of Images Tested = 10000\n",
      "\n",
      "Model Accuracy = 0.9067\n"
     ]
    }
   ],
   "source": [
    "# correct_count, all_count = 0, 0\n",
    "# for images,labels in test_dl:\n",
    "#   for i in range(len(labels)):\n",
    "#     img = images[i].view(1, 784)\n",
    "#     with torch.no_grad():\n",
    "#         logps = model(img)\n",
    "\n",
    "#     ps = torch.exp(logps)\n",
    "#     probab = list(ps.numpy()[0])\n",
    "#     pred_label = probab.index(max(probab))\n",
    "#     true_label = labels.numpy()[i]\n",
    "#     if(true_label == pred_label):\n",
    "#       correct_count += 1\n",
    "#     all_count += 1\n",
    "\n",
    "# print(\"Number Of Images Tested =\", all_count)\n",
    "# print(\"\\nModel Accuracy =\", (correct_count/all_count))"
   ]
  },
  {
   "cell_type": "code",
   "execution_count": 40,
   "id": "1f0871c3",
   "metadata": {},
   "outputs": [],
   "source": [
    "# build classical bayesian model\n",
    "from torchmetrics.classification import MulticlassAccuracy\n",
    "metric = MulticlassAccuracy(num_classes=10)\n",
    "bayes_model = api.BasicBayesianWrapper(model, 'basic', 0.05, None, None)"
   ]
  },
  {
   "cell_type": "code",
   "execution_count": 44,
   "id": "6c3f627a",
   "metadata": {},
   "outputs": [
    {
     "name": "stdout",
     "output_type": "stream",
     "text": [
      "the test accuracy over the whole test set is 88.71%\n"
     ]
    }
   ],
   "source": [
    "n_iter = 5\n",
    "with torch.no_grad():\n",
    "    n = 0 \n",
    "    test_acc = 0 \n",
    "    for batch_idx, (inputs, targets) in enumerate(test_dl):\n",
    "        test = bayes_model.predict(inputs, n_iter)\n",
    "        test_acc += metric(test['mean'], targets)\n",
    "        n += 1\n",
    "    \n",
    "    test_acc = test_acc / n\n",
    "    print(f'the test accuracy over the whole test set is {round((100 * test_acc.numpy()), 2)}%')"
   ]
  },
  {
   "cell_type": "code",
   "execution_count": 12,
   "id": "1c6d05db",
   "metadata": {},
   "outputs": [],
   "source": [
    "# build bayesian model with beta distibution\n",
    "bayes_model = api.BasicBayesianWrapper(model, 'beta', None, 0.2, 4.0)"
   ]
  },
  {
   "cell_type": "code",
   "execution_count": 45,
   "id": "09eebf25",
   "metadata": {},
   "outputs": [
    {
     "name": "stdout",
     "output_type": "stream",
     "text": [
      "the test accuracy over the whole test set is 88.33%\n"
     ]
    }
   ],
   "source": [
    "n_iter = 5\n",
    "with torch.no_grad():\n",
    "    n = 0 \n",
    "    test_acc = 0 \n",
    "    for batch_idx, (inputs, targets) in enumerate(test_dl):\n",
    "        test = bayes_model.predict(inputs, n_iter)\n",
    "        test_acc += metric(test['mean'], targets)\n",
    "        n += 1\n",
    "    \n",
    "    test_acc = test_acc / n\n",
    "    print(f'the test accuracy over the whole test set is {round((100 * test_acc.numpy()), 2)}%')"
   ]
  },
  {
   "cell_type": "code",
   "execution_count": null,
   "id": "3de8fa26",
   "metadata": {},
   "outputs": [],
   "source": []
  }
 ],
 "metadata": {
  "kernelspec": {
   "display_name": "Python 3.10.8 64-bit",
   "language": "python",
   "name": "python3"
  },
  "language_info": {
   "codemirror_mode": {
    "name": "ipython",
    "version": 3
   },
   "file_extension": ".py",
   "mimetype": "text/x-python",
   "name": "python",
   "nbconvert_exporter": "python",
   "pygments_lexer": "ipython3",
   "version": "3.10.8"
  },
  "vscode": {
   "interpreter": {
    "hash": "aee8b7b246df8f9039afb4144a1f6fd8d2ca17a180786b69acc140d282b71a49"
   }
  }
 },
 "nbformat": 4,
 "nbformat_minor": 5
}
