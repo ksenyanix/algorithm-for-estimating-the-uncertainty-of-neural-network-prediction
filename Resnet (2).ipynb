{
 "cells": [
  {
   "cell_type": "code",
   "execution_count": 1,
   "metadata": {},
   "outputs": [],
   "source": [
    "# путь к папке с моделями\n",
    "model_path = \"./\""
   ]
  },
  {
   "cell_type": "code",
   "execution_count": 2,
   "metadata": {},
   "outputs": [],
   "source": [
    "# класс и методы необходимые для SVD разложения\n",
    "from typing import Union\n",
    "\n",
    "import torch\n",
    "from torch import Tensor\n",
    "from torch.nn import Conv2d, Parameter, Module\n",
    "from torch.nn.common_types import _size_2_t\n",
    "import os\n",
    "\n",
    "class DecomposedConv2d(Conv2d):\n",
    "    \"\"\"Extends the Conv2d layer by implementing the singular value decomposition of\n",
    "    the weight matrix.\n",
    "    \"\"\"\n",
    "\n",
    "    def __init__(\n",
    "        self,\n",
    "        in_channels: int,\n",
    "        out_channels: int,\n",
    "        kernel_size: _size_2_t,\n",
    "        stride: _size_2_t = 1,\n",
    "        padding: Union[str, _size_2_t] = 0,\n",
    "        dilation: _size_2_t = 1,\n",
    "        groups: int = 1,\n",
    "        bias: bool = True,\n",
    "        padding_mode: str = \"zeros\",\n",
    "        decomposing: bool = True,\n",
    "        decomposing_mode: str = \"channel\",\n",
    "        device=None,\n",
    "        dtype=None,\n",
    "    ) -> None:\n",
    "\n",
    "        super().__init__(\n",
    "            in_channels,\n",
    "            out_channels,\n",
    "            kernel_size,\n",
    "            stride,\n",
    "            padding,\n",
    "            dilation,\n",
    "            groups,\n",
    "            bias,\n",
    "            padding_mode,\n",
    "            device,\n",
    "            dtype,\n",
    "        )\n",
    "\n",
    "        n, c, w, h = self.weight.size()\n",
    "        self.decomposing_modes_dict = {\n",
    "            \"channel\": (n, c * w * h),\n",
    "            \"spatial\": (n * w, c * h),\n",
    "        }\n",
    "\n",
    "        if decomposing:\n",
    "            self.decompose(decomposing_mode)\n",
    "        else:\n",
    "            self.U = None\n",
    "            self.S = None\n",
    "            self.Vh = None\n",
    "            self.decomposing = False\n",
    "\n",
    "    def decompose(self, decomposing_mode: str) -> None:\n",
    "        \"\"\"Decompose the weight matrix in singular value decomposition.\"\"\"\n",
    "\n",
    "        if decomposing_mode not in self.decomposing_modes_dict.keys():\n",
    "            raise ValueError(\n",
    "                \"decomposing_mode must be one of {}, but got decomposing_mode='{}'\".format(\n",
    "                    self.decomposing_modes_dict.keys(), decomposing_mode\n",
    "                )\n",
    "            )\n",
    "        W = self.weight.view(self.decomposing_modes_dict[decomposing_mode])\n",
    "        U, S, Vh = torch.linalg.svd(W, full_matrices=False)\n",
    "\n",
    "        self.U = Parameter(U)\n",
    "        self.S = Parameter(S)\n",
    "        self.Vh = Parameter(Vh)\n",
    "        self.register_parameter(\"weight\", None)\n",
    "        self.decomposing = True\n",
    "\n",
    "    def compose(self) -> None:\n",
    "        \"\"\"Compose the weight matrix from singular value decomposition.\"\"\"\n",
    "\n",
    "        W = self.U @ torch.diag(self.S) @ self.Vh\n",
    "        self.weight = Parameter(\n",
    "            W.view(\n",
    "                self.out_channels, self.in_channels // self.groups, *self.kernel_size\n",
    "            )\n",
    "        )\n",
    "\n",
    "        self.register_parameter(\"U\", None)\n",
    "        self.register_parameter(\"S\", None)\n",
    "        self.register_parameter(\"Vh\", None)\n",
    "        self.decomposing = False\n",
    "\n",
    "    def forward(self, input: Tensor) -> Tensor:\n",
    "\n",
    "        if self.decomposing:\n",
    "            W = self.U @ torch.diag(self.S) @ self.Vh\n",
    "            return self._conv_forward(\n",
    "                input,\n",
    "                W.view(\n",
    "                    self.out_channels,\n",
    "                    self.in_channels // self.groups,\n",
    "                    *self.kernel_size\n",
    "                ),\n",
    "                self.bias,\n",
    "            )\n",
    "        else:\n",
    "            return self._conv_forward(input, self.weight, self.bias)\n",
    "\n",
    "    def set_U_S_Vh(self, u: Tensor, s: Tensor, vh: Tensor) -> None:\n",
    "        \"\"\"Update U, S, Vh matrices.\"\"\"\n",
    "\n",
    "        assert self.decomposing, \"for setting U, S and Vh, the model must be decomposed\"\n",
    "        self.U = Parameter(u)\n",
    "        self.S = Parameter(s)\n",
    "        self.Vh = Parameter(vh)\n",
    "\n",
    "def energy_threshold_pruning(conv: DecomposedConv2d, energy_threshold: float) -> None:\n",
    "    \"\"\"Prune the weight matrices to the energy_threshold (in-place).\"\"\"\n",
    "    assert conv.decomposing, \"for pruning, the model must be decomposed\"\n",
    "    S, indices = conv.S.sort()\n",
    "    U = conv.U[:, indices]\n",
    "    Vh = conv.Vh[indices, :]\n",
    "    sum = (S ** 2).sum()\n",
    "    threshold = energy_threshold * sum\n",
    "    for i, s in enumerate(S):\n",
    "        sum -= s ** 2\n",
    "        if sum < threshold:\n",
    "            conv.set_U_S_Vh(U[:, i:].clone(), S[i:].clone(), Vh[i:, :].clone())\n",
    "            break\n",
    "\n",
    "\n",
    "def decompose_module(model: Module, decomposing_mode: str = \"channel\") -> None:\n",
    "    \"\"\"Replace Conv2d layers with DecomposedConv2d layers in module (in-place).\"\"\"\n",
    "    for name, module in model.named_children():\n",
    "        if len(list(module.children())) > 0:\n",
    "            decompose_module(module, decomposing_mode=decomposing_mode)\n",
    "\n",
    "        if isinstance(module, Conv2d):\n",
    "            new_module = DecomposedConv2d(\n",
    "                in_channels=module.in_channels,\n",
    "                out_channels=module.out_channels,\n",
    "                kernel_size=module.kernel_size,\n",
    "                stride=module.stride,\n",
    "                padding=module.padding,\n",
    "                dilation=module.dilation,\n",
    "                groups=module.groups,\n",
    "                bias=(module.bias is not None),\n",
    "                padding_mode=module.padding_mode,\n",
    "                decomposing=False,\n",
    "            )\n",
    "            new_module.load_state_dict(module.state_dict())\n",
    "            new_module.decompose(decomposing_mode=decomposing_mode)\n",
    "            setattr(model, name, new_module)\n",
    "\n",
    "def prune_model(model, energy_threshold) -> None:\n",
    "    \"\"\"Prune the model weights to the energy_threshold.\"\"\"\n",
    "    for module in model.modules():\n",
    "        if isinstance(module, DecomposedConv2d):\n",
    "            energy_threshold_pruning(conv=module, energy_threshold=energy_threshold)\n",
    "\n",
    "def number_of_params(model) -> int:\n",
    "    \"\"\"Return number of model parameters.\"\"\"\n",
    "    return sum(p.numel() for p in model.parameters())"
   ]
  },
  {
   "cell_type": "code",
   "execution_count": 3,
   "metadata": {},
   "outputs": [],
   "source": [
    "from NetBayesianization import wrap, api\n",
    "from torchvision.datasets import CIFAR10\n",
    "import torchvision.transforms as TF\n",
    "import matplotlib.pyplot as plt"
   ]
  },
  {
   "cell_type": "code",
   "execution_count": 4,
   "metadata": {},
   "outputs": [],
   "source": [
    "from torchmetrics.classification import MulticlassAccuracy\n",
    "metric = MulticlassAccuracy(num_classes=10)"
   ]
  },
  {
   "cell_type": "code",
   "execution_count": 5,
   "metadata": {},
   "outputs": [
    {
     "name": "stdout",
     "output_type": "stream",
     "text": [
      "Downloading https://www.cs.toronto.edu/~kriz/cifar-10-python.tar.gz to ./.cache/cifar-10-python.tar.gz\n"
     ]
    },
    {
     "data": {
      "application/vnd.jupyter.widget-view+json": {
       "model_id": "2f04c25156a244b79fa190bd56adcfc9",
       "version_major": 2,
       "version_minor": 0
      },
      "text/plain": [
       "  0%|          | 0/170498071 [00:00<?, ?it/s]"
      ]
     },
     "metadata": {},
     "output_type": "display_data"
    },
    {
     "name": "stdout",
     "output_type": "stream",
     "text": [
      "Extracting ./.cache/cifar-10-python.tar.gz to ./.cache\n"
     ]
    }
   ],
   "source": [
    "import torchvision.transforms as TF\n",
    "\n",
    "tfm = TF.Compose([\n",
    "    TF.ToTensor(),\n",
    "    TF.Normalize(mean=[0.485, 0.456, 0.406], std=[0.229, 0.224, 0.225])\n",
    "])\n",
    "\n",
    "train_ds = CIFAR10(root='./.cache', train=True, download=True, \n",
    "                 transform=tfm) #TF.ToTensor()) \n",
    "test_ds = CIFAR10(root='./.cache', train=False, download=False, \n",
    "                transform=tfm)#TF.ToTensor())"
   ]
  },
  {
   "cell_type": "code",
   "execution_count": 6,
   "metadata": {},
   "outputs": [],
   "source": [
    "train_dl = torch.utils.data.DataLoader(train_ds, batch_size=32, shuffle=True)\n",
    "test_dl = torch.utils.data.DataLoader(test_ds, batch_size=32, shuffle=False)"
   ]
  },
  {
   "cell_type": "code",
   "execution_count": 7,
   "metadata": {
    "scrolled": true
   },
   "outputs": [
    {
     "name": "stdout",
     "output_type": "stream",
     "text": [
      "Number of parameters: 11181642\n"
     ]
    },
    {
     "data": {
      "text/plain": [
       "ResNet(\n",
       "  (conv1): Conv2d(3, 64, kernel_size=(7, 7), stride=(2, 2), padding=(3, 3), bias=False)\n",
       "  (bn1): BatchNorm2d(64, eps=1e-05, momentum=0.1, affine=True, track_running_stats=True)\n",
       "  (relu): ReLU(inplace=True)\n",
       "  (maxpool): MaxPool2d(kernel_size=3, stride=2, padding=1, dilation=1, ceil_mode=False)\n",
       "  (layer1): Sequential(\n",
       "    (0): BasicBlock(\n",
       "      (conv1): Conv2d(64, 64, kernel_size=(3, 3), stride=(1, 1), padding=(1, 1), bias=False)\n",
       "      (bn1): BatchNorm2d(64, eps=1e-05, momentum=0.1, affine=True, track_running_stats=True)\n",
       "      (relu): ReLU(inplace=True)\n",
       "      (conv2): Conv2d(64, 64, kernel_size=(3, 3), stride=(1, 1), padding=(1, 1), bias=False)\n",
       "      (bn2): BatchNorm2d(64, eps=1e-05, momentum=0.1, affine=True, track_running_stats=True)\n",
       "    )\n",
       "    (1): BasicBlock(\n",
       "      (conv1): Conv2d(64, 64, kernel_size=(3, 3), stride=(1, 1), padding=(1, 1), bias=False)\n",
       "      (bn1): BatchNorm2d(64, eps=1e-05, momentum=0.1, affine=True, track_running_stats=True)\n",
       "      (relu): ReLU(inplace=True)\n",
       "      (conv2): Conv2d(64, 64, kernel_size=(3, 3), stride=(1, 1), padding=(1, 1), bias=False)\n",
       "      (bn2): BatchNorm2d(64, eps=1e-05, momentum=0.1, affine=True, track_running_stats=True)\n",
       "    )\n",
       "  )\n",
       "  (layer2): Sequential(\n",
       "    (0): BasicBlock(\n",
       "      (conv1): Conv2d(64, 128, kernel_size=(3, 3), stride=(2, 2), padding=(1, 1), bias=False)\n",
       "      (bn1): BatchNorm2d(128, eps=1e-05, momentum=0.1, affine=True, track_running_stats=True)\n",
       "      (relu): ReLU(inplace=True)\n",
       "      (conv2): Conv2d(128, 128, kernel_size=(3, 3), stride=(1, 1), padding=(1, 1), bias=False)\n",
       "      (bn2): BatchNorm2d(128, eps=1e-05, momentum=0.1, affine=True, track_running_stats=True)\n",
       "      (downsample): Sequential(\n",
       "        (0): Conv2d(64, 128, kernel_size=(1, 1), stride=(2, 2), bias=False)\n",
       "        (1): BatchNorm2d(128, eps=1e-05, momentum=0.1, affine=True, track_running_stats=True)\n",
       "      )\n",
       "    )\n",
       "    (1): BasicBlock(\n",
       "      (conv1): Conv2d(128, 128, kernel_size=(3, 3), stride=(1, 1), padding=(1, 1), bias=False)\n",
       "      (bn1): BatchNorm2d(128, eps=1e-05, momentum=0.1, affine=True, track_running_stats=True)\n",
       "      (relu): ReLU(inplace=True)\n",
       "      (conv2): Conv2d(128, 128, kernel_size=(3, 3), stride=(1, 1), padding=(1, 1), bias=False)\n",
       "      (bn2): BatchNorm2d(128, eps=1e-05, momentum=0.1, affine=True, track_running_stats=True)\n",
       "    )\n",
       "  )\n",
       "  (layer3): Sequential(\n",
       "    (0): BasicBlock(\n",
       "      (conv1): Conv2d(128, 256, kernel_size=(3, 3), stride=(2, 2), padding=(1, 1), bias=False)\n",
       "      (bn1): BatchNorm2d(256, eps=1e-05, momentum=0.1, affine=True, track_running_stats=True)\n",
       "      (relu): ReLU(inplace=True)\n",
       "      (conv2): Conv2d(256, 256, kernel_size=(3, 3), stride=(1, 1), padding=(1, 1), bias=False)\n",
       "      (bn2): BatchNorm2d(256, eps=1e-05, momentum=0.1, affine=True, track_running_stats=True)\n",
       "      (downsample): Sequential(\n",
       "        (0): Conv2d(128, 256, kernel_size=(1, 1), stride=(2, 2), bias=False)\n",
       "        (1): BatchNorm2d(256, eps=1e-05, momentum=0.1, affine=True, track_running_stats=True)\n",
       "      )\n",
       "    )\n",
       "    (1): BasicBlock(\n",
       "      (conv1): Conv2d(256, 256, kernel_size=(3, 3), stride=(1, 1), padding=(1, 1), bias=False)\n",
       "      (bn1): BatchNorm2d(256, eps=1e-05, momentum=0.1, affine=True, track_running_stats=True)\n",
       "      (relu): ReLU(inplace=True)\n",
       "      (conv2): Conv2d(256, 256, kernel_size=(3, 3), stride=(1, 1), padding=(1, 1), bias=False)\n",
       "      (bn2): BatchNorm2d(256, eps=1e-05, momentum=0.1, affine=True, track_running_stats=True)\n",
       "    )\n",
       "  )\n",
       "  (layer4): Sequential(\n",
       "    (0): BasicBlock(\n",
       "      (conv1): Conv2d(256, 512, kernel_size=(3, 3), stride=(2, 2), padding=(1, 1), bias=False)\n",
       "      (bn1): BatchNorm2d(512, eps=1e-05, momentum=0.1, affine=True, track_running_stats=True)\n",
       "      (relu): ReLU(inplace=True)\n",
       "      (conv2): Conv2d(512, 512, kernel_size=(3, 3), stride=(1, 1), padding=(1, 1), bias=False)\n",
       "      (bn2): BatchNorm2d(512, eps=1e-05, momentum=0.1, affine=True, track_running_stats=True)\n",
       "      (downsample): Sequential(\n",
       "        (0): Conv2d(256, 512, kernel_size=(1, 1), stride=(2, 2), bias=False)\n",
       "        (1): BatchNorm2d(512, eps=1e-05, momentum=0.1, affine=True, track_running_stats=True)\n",
       "      )\n",
       "    )\n",
       "    (1): BasicBlock(\n",
       "      (conv1): Conv2d(512, 512, kernel_size=(3, 3), stride=(1, 1), padding=(1, 1), bias=False)\n",
       "      (bn1): BatchNorm2d(512, eps=1e-05, momentum=0.1, affine=True, track_running_stats=True)\n",
       "      (relu): ReLU(inplace=True)\n",
       "      (conv2): Conv2d(512, 512, kernel_size=(3, 3), stride=(1, 1), padding=(1, 1), bias=False)\n",
       "      (bn2): BatchNorm2d(512, eps=1e-05, momentum=0.1, affine=True, track_running_stats=True)\n",
       "    )\n",
       "  )\n",
       "  (avgpool): AdaptiveAvgPool2d(output_size=(1, 1))\n",
       "  (fc): Linear(in_features=512, out_features=10, bias=True)\n",
       ")"
      ]
     },
     "execution_count": 7,
     "metadata": {},
     "output_type": "execute_result"
    }
   ],
   "source": [
    "import torch\n",
    "from torchvision.models import resnet18\n",
    "\n",
    "# загрузка обученной модели без разложения\n",
    "device = torch.device('cpu')\n",
    "model_name = \"ResNet18.sd.pt\"\n",
    "model = resnet18(num_classes=10)\n",
    "model.load_state_dict(torch.load(model_path + model_name,  map_location=device))\n",
    "print(f\"Number of parameters: {number_of_params(model)}\")\n",
    "\n",
    "model.eval()"
   ]
  },
  {
   "cell_type": "code",
   "execution_count": 8,
   "metadata": {},
   "outputs": [],
   "source": [
    "import torch\n",
    "import torch.nn as nn\n",
    "import copy\n",
    "import torch.optim\n",
    "import numpy as np"
   ]
  },
  {
   "cell_type": "code",
   "execution_count": 9,
   "metadata": {},
   "outputs": [],
   "source": [
    "def sampling(model, data):\n",
    "    max_val = []\n",
    "    min_val = []\n",
    "    avg_val = []\n",
    "    for p in np.arange(0, 1.1, 0.1):\n",
    "        results = []\n",
    "        model_copy = copy.deepcopy(model)\n",
    "        state_dict = model_copy.state_dict()\n",
    "        state_dict_v2 = copy.deepcopy(state_dict)\n",
    "        for key, value in state_dict_v2.items():\n",
    "            if 'weight' in key:\n",
    "                output = nn.functional.dropout(value, p, training=True)\n",
    "                state_dict_v2[key] = output\n",
    "        model_copy.load_state_dict(state_dict_v2, strict=True)\n",
    "        with torch.no_grad():\n",
    "            for batch_idx, (inputs, targets) in enumerate(data):\n",
    "                outputs = model_copy(inputs)\n",
    "                results.append(metric(outputs, targets).numpy())\n",
    "            max_val.append(np.max(results))\n",
    "            min_val.append(np.min(results))\n",
    "            avg_val.append(np.mean(results))\n",
    "    return max_val, min_val, avg_val\n"
   ]
  },
  {
   "cell_type": "code",
   "execution_count": 10,
   "metadata": {},
   "outputs": [],
   "source": [
    "def plotting(max_val, min_val, avg_val):\n",
    "    fig, ax1 = plt.subplots(figsize=(12,6))\n",
    "\n",
    "    ax1.plot(np.arange(0, 1.1, 0.1), max_val, label='max values')\n",
    "    ax1.plot(np.arange(0, 1.1, 0.1), avg_val, color=\"b\", label='avg values')\n",
    "    ax1.plot(np.arange(0, 1.1, 0.1), min_val, color=\"r\", label='min values')\n",
    "    ax1.legend()"
   ]
  },
  {
   "cell_type": "code",
   "execution_count": 11,
   "metadata": {},
   "outputs": [
    {
     "name": "stdout",
     "output_type": "stream",
     "text": [
      "tensor(0.7386)\n"
     ]
    }
   ],
   "source": [
    "with torch.no_grad():\n",
    "    n = 0 \n",
    "    test_acc = 0 \n",
    "    for batch_idx, (inputs, targets) in enumerate(test_dl):\n",
    "        outputs = model(inputs)\n",
    "        test_acc += metric(outputs, targets)\n",
    "        n += 1\n",
    "    \n",
    "    test_acc = test_acc / n\n",
    "    print(test_acc)"
   ]
  },
  {
   "cell_type": "code",
   "execution_count": 12,
   "metadata": {},
   "outputs": [
    {
     "data": {
      "image/png": "[encoded data removed]",
      "text/plain": [
       "<Figure size 1200x600 with 1 Axes>"
      ]
     },
     "metadata": {},
     "output_type": "display_data"
    }
   ],
   "source": [
    "max_val, min_val, avg_val = sampling(model, test_dl)\n",
    "plotting(max_val, min_val, avg_val)"
   ]
  },
  {
   "cell_type": "code",
   "execution_count": 13,
   "metadata": {},
   "outputs": [],
   "source": [
    "bayes_model = api.BasicBayesianWrapper(model, 'basic', 0.05, None, None)\n",
    "n_iter = 10"
   ]
  },
  {
   "cell_type": "code",
   "execution_count": 14,
   "metadata": {
    "scrolled": true
   },
   "outputs": [
    {
     "name": "stdout",
     "output_type": "stream",
     "text": [
      "tensor(0.7273)\n"
     ]
    }
   ],
   "source": [
    "with torch.no_grad():\n",
    "    n = 0 \n",
    "    test_acc = 0 \n",
    "    for batch_idx, (inputs, targets) in enumerate(test_dl):\n",
    "        test = bayes_model.predict(inputs, n_iter)\n",
    "        test_acc += metric(test['mean'], targets)\n",
    "        n += 1\n",
    "    \n",
    "    test_acc = test_acc / n\n",
    "    print(test_acc)"
   ]
  },
  {
   "cell_type": "code",
   "execution_count": 15,
   "metadata": {},
   "outputs": [],
   "source": [
    "bayes_model = api.BasicBayesianWrapper(model, 'beta', None, 0.2, 4.0)\n",
    "n_iter = 10"
   ]
  },
  {
   "cell_type": "code",
   "execution_count": 16,
   "metadata": {},
   "outputs": [
    {
     "name": "stdout",
     "output_type": "stream",
     "text": [
      "tensor(0.7042)\n"
     ]
    }
   ],
   "source": [
    "with torch.no_grad():\n",
    "    n = 0 \n",
    "    test_acc = 0 \n",
    "    for batch_idx, (inputs, targets) in enumerate(test_dl):\n",
    "        test = bayes_model.predict(inputs, n_iter)\n",
    "        test_acc += metric(test['mean'], targets)\n",
    "        n += 1\n",
    "    \n",
    "    test_acc = test_acc / n\n",
    "    print(test_acc)"
   ]
  },
  {
   "cell_type": "code",
   "execution_count": 17,
   "metadata": {
    "scrolled": true
   },
   "outputs": [
    {
     "name": "stdout",
     "output_type": "stream",
     "text": [
      "Number of parameters: 12668746\n"
     ]
    },
    {
     "data": {
      "text/plain": [
       "ResNet(\n",
       "  (conv1): DecomposedConv2d(3, 64, kernel_size=(7, 7), stride=(2, 2), padding=(3, 3), bias=False)\n",
       "  (bn1): BatchNorm2d(64, eps=1e-05, momentum=0.1, affine=True, track_running_stats=True)\n",
       "  (relu): ReLU(inplace=True)\n",
       "  (maxpool): MaxPool2d(kernel_size=3, stride=2, padding=1, dilation=1, ceil_mode=False)\n",
       "  (layer1): Sequential(\n",
       "    (0): BasicBlock(\n",
       "      (conv1): DecomposedConv2d(64, 64, kernel_size=(3, 3), stride=(1, 1), padding=(1, 1), bias=False)\n",
       "      (bn1): BatchNorm2d(64, eps=1e-05, momentum=0.1, affine=True, track_running_stats=True)\n",
       "      (relu): ReLU(inplace=True)\n",
       "      (conv2): DecomposedConv2d(64, 64, kernel_size=(3, 3), stride=(1, 1), padding=(1, 1), bias=False)\n",
       "      (bn2): BatchNorm2d(64, eps=1e-05, momentum=0.1, affine=True, track_running_stats=True)\n",
       "    )\n",
       "    (1): BasicBlock(\n",
       "      (conv1): DecomposedConv2d(64, 64, kernel_size=(3, 3), stride=(1, 1), padding=(1, 1), bias=False)\n",
       "      (bn1): BatchNorm2d(64, eps=1e-05, momentum=0.1, affine=True, track_running_stats=True)\n",
       "      (relu): ReLU(inplace=True)\n",
       "      (conv2): DecomposedConv2d(64, 64, kernel_size=(3, 3), stride=(1, 1), padding=(1, 1), bias=False)\n",
       "      (bn2): BatchNorm2d(64, eps=1e-05, momentum=0.1, affine=True, track_running_stats=True)\n",
       "    )\n",
       "  )\n",
       "  (layer2): Sequential(\n",
       "    (0): BasicBlock(\n",
       "      (conv1): DecomposedConv2d(64, 128, kernel_size=(3, 3), stride=(2, 2), padding=(1, 1), bias=False)\n",
       "      (bn1): BatchNorm2d(128, eps=1e-05, momentum=0.1, affine=True, track_running_stats=True)\n",
       "      (relu): ReLU(inplace=True)\n",
       "      (conv2): DecomposedConv2d(128, 128, kernel_size=(3, 3), stride=(1, 1), padding=(1, 1), bias=False)\n",
       "      (bn2): BatchNorm2d(128, eps=1e-05, momentum=0.1, affine=True, track_running_stats=True)\n",
       "      (downsample): Sequential(\n",
       "        (0): DecomposedConv2d(64, 128, kernel_size=(1, 1), stride=(2, 2), bias=False)\n",
       "        (1): BatchNorm2d(128, eps=1e-05, momentum=0.1, affine=True, track_running_stats=True)\n",
       "      )\n",
       "    )\n",
       "    (1): BasicBlock(\n",
       "      (conv1): DecomposedConv2d(128, 128, kernel_size=(3, 3), stride=(1, 1), padding=(1, 1), bias=False)\n",
       "      (bn1): BatchNorm2d(128, eps=1e-05, momentum=0.1, affine=True, track_running_stats=True)\n",
       "      (relu): ReLU(inplace=True)\n",
       "      (conv2): DecomposedConv2d(128, 128, kernel_size=(3, 3), stride=(1, 1), padding=(1, 1), bias=False)\n",
       "      (bn2): BatchNorm2d(128, eps=1e-05, momentum=0.1, affine=True, track_running_stats=True)\n",
       "    )\n",
       "  )\n",
       "  (layer3): Sequential(\n",
       "    (0): BasicBlock(\n",
       "      (conv1): DecomposedConv2d(128, 256, kernel_size=(3, 3), stride=(2, 2), padding=(1, 1), bias=False)\n",
       "      (bn1): BatchNorm2d(256, eps=1e-05, momentum=0.1, affine=True, track_running_stats=True)\n",
       "      (relu): ReLU(inplace=True)\n",
       "      (conv2): DecomposedConv2d(256, 256, kernel_size=(3, 3), stride=(1, 1), padding=(1, 1), bias=False)\n",
       "      (bn2): BatchNorm2d(256, eps=1e-05, momentum=0.1, affine=True, track_running_stats=True)\n",
       "      (downsample): Sequential(\n",
       "        (0): DecomposedConv2d(128, 256, kernel_size=(1, 1), stride=(2, 2), bias=False)\n",
       "        (1): BatchNorm2d(256, eps=1e-05, momentum=0.1, affine=True, track_running_stats=True)\n",
       "      )\n",
       "    )\n",
       "    (1): BasicBlock(\n",
       "      (conv1): DecomposedConv2d(256, 256, kernel_size=(3, 3), stride=(1, 1), padding=(1, 1), bias=False)\n",
       "      (bn1): BatchNorm2d(256, eps=1e-05, momentum=0.1, affine=True, track_running_stats=True)\n",
       "      (relu): ReLU(inplace=True)\n",
       "      (conv2): DecomposedConv2d(256, 256, kernel_size=(3, 3), stride=(1, 1), padding=(1, 1), bias=False)\n",
       "      (bn2): BatchNorm2d(256, eps=1e-05, momentum=0.1, affine=True, track_running_stats=True)\n",
       "    )\n",
       "  )\n",
       "  (layer4): Sequential(\n",
       "    (0): BasicBlock(\n",
       "      (conv1): DecomposedConv2d(256, 512, kernel_size=(3, 3), stride=(2, 2), padding=(1, 1), bias=False)\n",
       "      (bn1): BatchNorm2d(512, eps=1e-05, momentum=0.1, affine=True, track_running_stats=True)\n",
       "      (relu): ReLU(inplace=True)\n",
       "      (conv2): DecomposedConv2d(512, 512, kernel_size=(3, 3), stride=(1, 1), padding=(1, 1), bias=False)\n",
       "      (bn2): BatchNorm2d(512, eps=1e-05, momentum=0.1, affine=True, track_running_stats=True)\n",
       "      (downsample): Sequential(\n",
       "        (0): DecomposedConv2d(256, 512, kernel_size=(1, 1), stride=(2, 2), bias=False)\n",
       "        (1): BatchNorm2d(512, eps=1e-05, momentum=0.1, affine=True, track_running_stats=True)\n",
       "      )\n",
       "    )\n",
       "    (1): BasicBlock(\n",
       "      (conv1): DecomposedConv2d(512, 512, kernel_size=(3, 3), stride=(1, 1), padding=(1, 1), bias=False)\n",
       "      (bn1): BatchNorm2d(512, eps=1e-05, momentum=0.1, affine=True, track_running_stats=True)\n",
       "      (relu): ReLU(inplace=True)\n",
       "      (conv2): DecomposedConv2d(512, 512, kernel_size=(3, 3), stride=(1, 1), padding=(1, 1), bias=False)\n",
       "      (bn2): BatchNorm2d(512, eps=1e-05, momentum=0.1, affine=True, track_running_stats=True)\n",
       "    )\n",
       "  )\n",
       "  (avgpool): AdaptiveAvgPool2d(output_size=(1, 1))\n",
       "  (fc): Linear(in_features=512, out_features=10, bias=True)\n",
       ")"
      ]
     },
     "execution_count": 17,
     "metadata": {},
     "output_type": "execute_result"
    }
   ],
   "source": [
    "# загрузка обученной разложенной модели\n",
    "svd_model_name = 'ResNet18_SVD_channel_O-100.0_H-0.000100.sd.pt'\n",
    "svd_model = resnet18(num_classes=10)\n",
    "decompose_module(svd_model, \"channel\")\n",
    "svd_model.load_state_dict(torch.load(model_path + svd_model_name,  map_location=device))\n",
    "print(f\"Number of parameters: {number_of_params(svd_model)}\")\n",
    " \n",
    "svd_model.eval()"
   ]
  },
  {
   "cell_type": "code",
   "execution_count": 18,
   "metadata": {},
   "outputs": [
    {
     "name": "stdout",
     "output_type": "stream",
     "text": [
      "tensor(0.7276)\n"
     ]
    }
   ],
   "source": [
    "n = 0 \n",
    "test_acc = 0 \n",
    "for batch_idx, (inputs, targets) in enumerate(test_dl):\n",
    "    outputs = svd_model(inputs)\n",
    "    test_acc += metric(outputs, targets)\n",
    "    n += 1\n",
    "\n",
    "test_acc = test_acc / n\n",
    "print(test_acc)"
   ]
  },
  {
   "cell_type": "code",
   "execution_count": 19,
   "metadata": {},
   "outputs": [
    {
     "data": {
      "image/png": "[encoded data removed]",
      "text/plain": [
       "<Figure size 1200x600 with 1 Axes>"
      ]
     },
     "metadata": {},
     "output_type": "display_data"
    }
   ],
   "source": [
    "max_val, min_val, avg_val = sampling(svd_model, test_dl)\n",
    "plotting(max_val, min_val, avg_val)"
   ]
  },
  {
   "cell_type": "code",
   "execution_count": 20,
   "metadata": {},
   "outputs": [],
   "source": [
    "bayes_model = api.BasicBayesianWrapper(svd_model, 'basic', 0.05, None, None)\n",
    "n_iter = 10"
   ]
  },
  {
   "cell_type": "code",
   "execution_count": 21,
   "metadata": {},
   "outputs": [
    {
     "name": "stdout",
     "output_type": "stream",
     "text": [
      "tensor(0.7230)\n"
     ]
    }
   ],
   "source": [
    "n = 0 \n",
    "test_acc = 0 \n",
    "for batch_idx, (inputs, targets) in enumerate(test_dl):\n",
    "    test = bayes_model.predict(inputs, n_iter)\n",
    "    test_acc += metric(test['mean'], targets)\n",
    "    n += 1\n",
    "\n",
    "test_acc = test_acc / n\n",
    "print(test_acc)"
   ]
  },
  {
   "cell_type": "code",
   "execution_count": 22,
   "metadata": {},
   "outputs": [],
   "source": [
    "bayes_model = api.BasicBayesianWrapper(svd_model, 'beta', None, 0.2, 4.0)\n",
    "n_iter = 10"
   ]
  },
  {
   "cell_type": "code",
   "execution_count": 23,
   "metadata": {},
   "outputs": [
    {
     "name": "stdout",
     "output_type": "stream",
     "text": [
      "tensor(0.7144)\n"
     ]
    }
   ],
   "source": [
    "n = 0 \n",
    "test_acc = 0 \n",
    "for batch_idx, (inputs, targets) in enumerate(test_dl):\n",
    "    test = bayes_model.predict(inputs, n_iter)\n",
    "    test_acc += metric(test['mean'], targets)\n",
    "    n += 1\n",
    "\n",
    "test_acc = test_acc / n\n",
    "print(test_acc)"
   ]
  },
  {
   "cell_type": "code",
   "execution_count": 24,
   "metadata": {
    "scrolled": true
   },
   "outputs": [
    {
     "name": "stdout",
     "output_type": "stream",
     "text": [
      "Number of parameters: 7206832\n"
     ]
    },
    {
     "data": {
      "text/plain": [
       "ResNet(\n",
       "  (conv1): DecomposedConv2d(3, 64, kernel_size=(7, 7), stride=(2, 2), padding=(3, 3), bias=False)\n",
       "  (bn1): BatchNorm2d(64, eps=1e-05, momentum=0.1, affine=True, track_running_stats=True)\n",
       "  (relu): ReLU(inplace=True)\n",
       "  (maxpool): MaxPool2d(kernel_size=3, stride=2, padding=1, dilation=1, ceil_mode=False)\n",
       "  (layer1): Sequential(\n",
       "    (0): BasicBlock(\n",
       "      (conv1): DecomposedConv2d(64, 64, kernel_size=(3, 3), stride=(1, 1), padding=(1, 1), bias=False)\n",
       "      (bn1): BatchNorm2d(64, eps=1e-05, momentum=0.1, affine=True, track_running_stats=True)\n",
       "      (relu): ReLU(inplace=True)\n",
       "      (conv2): DecomposedConv2d(64, 64, kernel_size=(3, 3), stride=(1, 1), padding=(1, 1), bias=False)\n",
       "      (bn2): BatchNorm2d(64, eps=1e-05, momentum=0.1, affine=True, track_running_stats=True)\n",
       "    )\n",
       "    (1): BasicBlock(\n",
       "      (conv1): DecomposedConv2d(64, 64, kernel_size=(3, 3), stride=(1, 1), padding=(1, 1), bias=False)\n",
       "      (bn1): BatchNorm2d(64, eps=1e-05, momentum=0.1, affine=True, track_running_stats=True)\n",
       "      (relu): ReLU(inplace=True)\n",
       "      (conv2): DecomposedConv2d(64, 64, kernel_size=(3, 3), stride=(1, 1), padding=(1, 1), bias=False)\n",
       "      (bn2): BatchNorm2d(64, eps=1e-05, momentum=0.1, affine=True, track_running_stats=True)\n",
       "    )\n",
       "  )\n",
       "  (layer2): Sequential(\n",
       "    (0): BasicBlock(\n",
       "      (conv1): DecomposedConv2d(64, 128, kernel_size=(3, 3), stride=(2, 2), padding=(1, 1), bias=False)\n",
       "      (bn1): BatchNorm2d(128, eps=1e-05, momentum=0.1, affine=True, track_running_stats=True)\n",
       "      (relu): ReLU(inplace=True)\n",
       "      (conv2): DecomposedConv2d(128, 128, kernel_size=(3, 3), stride=(1, 1), padding=(1, 1), bias=False)\n",
       "      (bn2): BatchNorm2d(128, eps=1e-05, momentum=0.1, affine=True, track_running_stats=True)\n",
       "      (downsample): Sequential(\n",
       "        (0): DecomposedConv2d(64, 128, kernel_size=(1, 1), stride=(2, 2), bias=False)\n",
       "        (1): BatchNorm2d(128, eps=1e-05, momentum=0.1, affine=True, track_running_stats=True)\n",
       "      )\n",
       "    )\n",
       "    (1): BasicBlock(\n",
       "      (conv1): DecomposedConv2d(128, 128, kernel_size=(3, 3), stride=(1, 1), padding=(1, 1), bias=False)\n",
       "      (bn1): BatchNorm2d(128, eps=1e-05, momentum=0.1, affine=True, track_running_stats=True)\n",
       "      (relu): ReLU(inplace=True)\n",
       "      (conv2): DecomposedConv2d(128, 128, kernel_size=(3, 3), stride=(1, 1), padding=(1, 1), bias=False)\n",
       "      (bn2): BatchNorm2d(128, eps=1e-05, momentum=0.1, affine=True, track_running_stats=True)\n",
       "    )\n",
       "  )\n",
       "  (layer3): Sequential(\n",
       "    (0): BasicBlock(\n",
       "      (conv1): DecomposedConv2d(128, 256, kernel_size=(3, 3), stride=(2, 2), padding=(1, 1), bias=False)\n",
       "      (bn1): BatchNorm2d(256, eps=1e-05, momentum=0.1, affine=True, track_running_stats=True)\n",
       "      (relu): ReLU(inplace=True)\n",
       "      (conv2): DecomposedConv2d(256, 256, kernel_size=(3, 3), stride=(1, 1), padding=(1, 1), bias=False)\n",
       "      (bn2): BatchNorm2d(256, eps=1e-05, momentum=0.1, affine=True, track_running_stats=True)\n",
       "      (downsample): Sequential(\n",
       "        (0): DecomposedConv2d(128, 256, kernel_size=(1, 1), stride=(2, 2), bias=False)\n",
       "        (1): BatchNorm2d(256, eps=1e-05, momentum=0.1, affine=True, track_running_stats=True)\n",
       "      )\n",
       "    )\n",
       "    (1): BasicBlock(\n",
       "      (conv1): DecomposedConv2d(256, 256, kernel_size=(3, 3), stride=(1, 1), padding=(1, 1), bias=False)\n",
       "      (bn1): BatchNorm2d(256, eps=1e-05, momentum=0.1, affine=True, track_running_stats=True)\n",
       "      (relu): ReLU(inplace=True)\n",
       "      (conv2): DecomposedConv2d(256, 256, kernel_size=(3, 3), stride=(1, 1), padding=(1, 1), bias=False)\n",
       "      (bn2): BatchNorm2d(256, eps=1e-05, momentum=0.1, affine=True, track_running_stats=True)\n",
       "    )\n",
       "  )\n",
       "  (layer4): Sequential(\n",
       "    (0): BasicBlock(\n",
       "      (conv1): DecomposedConv2d(256, 512, kernel_size=(3, 3), stride=(2, 2), padding=(1, 1), bias=False)\n",
       "      (bn1): BatchNorm2d(512, eps=1e-05, momentum=0.1, affine=True, track_running_stats=True)\n",
       "      (relu): ReLU(inplace=True)\n",
       "      (conv2): DecomposedConv2d(512, 512, kernel_size=(3, 3), stride=(1, 1), padding=(1, 1), bias=False)\n",
       "      (bn2): BatchNorm2d(512, eps=1e-05, momentum=0.1, affine=True, track_running_stats=True)\n",
       "      (downsample): Sequential(\n",
       "        (0): DecomposedConv2d(256, 512, kernel_size=(1, 1), stride=(2, 2), bias=False)\n",
       "        (1): BatchNorm2d(512, eps=1e-05, momentum=0.1, affine=True, track_running_stats=True)\n",
       "      )\n",
       "    )\n",
       "    (1): BasicBlock(\n",
       "      (conv1): DecomposedConv2d(512, 512, kernel_size=(3, 3), stride=(1, 1), padding=(1, 1), bias=False)\n",
       "      (bn1): BatchNorm2d(512, eps=1e-05, momentum=0.1, affine=True, track_running_stats=True)\n",
       "      (relu): ReLU(inplace=True)\n",
       "      (conv2): DecomposedConv2d(512, 512, kernel_size=(3, 3), stride=(1, 1), padding=(1, 1), bias=False)\n",
       "      (bn2): BatchNorm2d(512, eps=1e-05, momentum=0.1, affine=True, track_running_stats=True)\n",
       "    )\n",
       "  )\n",
       "  (avgpool): AdaptiveAvgPool2d(output_size=(1, 1))\n",
       "  (fc): Linear(in_features=512, out_features=10, bias=True)\n",
       ")"
      ]
     },
     "execution_count": 24,
     "metadata": {},
     "output_type": "execute_result"
    }
   ],
   "source": [
    "import copy\n",
    "\n",
    "#обрезка модели, значения energy_threshold из промежутка (0, 1)\n",
    "pruned_model = copy.deepcopy(svd_model)\n",
    "prune_model(model=pruned_model, energy_threshold=0.9)\n",
    "print(f\"Number of parameters: {number_of_params(pruned_model)}\")\n",
    "pruned_model.eval()"
   ]
  },
  {
   "cell_type": "code",
   "execution_count": 25,
   "metadata": {},
   "outputs": [
    {
     "name": "stdout",
     "output_type": "stream",
     "text": [
      "tensor(0.5925)\n"
     ]
    }
   ],
   "source": [
    "n = 0 \n",
    "test_acc = 0 \n",
    "for batch_idx, (inputs, targets) in enumerate(test_dl):\n",
    "    outputs = pruned_model(inputs)\n",
    "    test_acc += metric(outputs, targets)\n",
    "    n += 1\n",
    "\n",
    "test_acc = test_acc / n\n",
    "print(test_acc)"
   ]
  },
  {
   "cell_type": "code",
   "execution_count": 26,
   "metadata": {},
   "outputs": [
    {
     "data": {
      "image/png": "[encoded data removed]",
      "text/plain": [
       "<Figure size 1200x600 with 1 Axes>"
      ]
     },
     "metadata": {},
     "output_type": "display_data"
    }
   ],
   "source": [
    "max_val, min_val, avg_val = sampling(pruned_model, test_dl)\n",
    "plotting(max_val, min_val, avg_val)"
   ]
  },
  {
   "cell_type": "code",
   "execution_count": 27,
   "metadata": {},
   "outputs": [],
   "source": [
    "bayes_model = api.BasicBayesianWrapper(pruned_model, 'basic', 0.05, None, None)\n",
    "n_iter = 10"
   ]
  },
  {
   "cell_type": "code",
   "execution_count": 28,
   "metadata": {},
   "outputs": [
    {
     "name": "stdout",
     "output_type": "stream",
     "text": [
      "tensor(0.6062)\n"
     ]
    }
   ],
   "source": [
    "n = 0 \n",
    "test_acc = 0 \n",
    "for batch_idx, (inputs, targets) in enumerate(test_dl):\n",
    "    test = bayes_model.predict(inputs, n_iter)\n",
    "    test_acc += metric(test['mean'], targets)\n",
    "    n += 1\n",
    "\n",
    "test_acc = test_acc / n\n",
    "print(test_acc)"
   ]
  },
  {
   "cell_type": "code",
   "execution_count": 29,
   "metadata": {},
   "outputs": [],
   "source": [
    "bayes_model = api.BasicBayesianWrapper(pruned_model, 'beta', None, 0.2, 4.0)\n",
    "n_iter = 10"
   ]
  },
  {
   "cell_type": "code",
   "execution_count": 30,
   "metadata": {},
   "outputs": [
    {
     "name": "stdout",
     "output_type": "stream",
     "text": [
      "tensor(0.5893)\n"
     ]
    }
   ],
   "source": [
    "n = 0 \n",
    "test_acc = 0 \n",
    "for batch_idx, (inputs, targets) in enumerate(test_dl):\n",
    "    test = bayes_model.predict(inputs, n_iter)\n",
    "    test_acc += metric(test['mean'], targets)\n",
    "    n += 1\n",
    "\n",
    "test_acc = test_acc / n\n",
    "print(test_acc)"
   ]
  },
  {
   "cell_type": "code",
   "execution_count": null,
   "metadata": {},
   "outputs": [],
   "source": []
  }
 ],
 "metadata": {
  "kernelspec": {
   "display_name": "Python 3",
   "language": "python",
   "name": "python3"
  },
  "language_info": {
   "codemirror_mode": {
    "name": "ipython",
    "version": 3
   },
   "file_extension": ".py",
   "mimetype": "text/x-python",
   "name": "python",
   "nbconvert_exporter": "python",
   "pygments_lexer": "ipython3",
   "version": "3.10.8"
  },
  "vscode": {
   "interpreter": {
    "hash": "aee8b7b246df8f9039afb4144a1f6fd8d2ca17a180786b69acc140d282b71a49"
   }
  }
 },
 "nbformat": 4,
 "nbformat_minor": 1
}
